{
 "cells": [
  {
   "cell_type": "code",
   "execution_count": 4,
   "metadata": {},
   "outputs": [
    {
     "name": "stdout",
     "output_type": "stream",
     "text": [
      "<Response [200]>\n"
     ]
    }
   ],
   "source": [
    "import requests\n",
    "from bs4 import BeautifulSoup\n",
    "\n",
    "# 要給表頭騙過瀏覽器，主要是 cookie 跟 cf-ray，注意每次都會有不一樣的值要記得換~~~\n",
    "headers = {\n",
    "    'user-agent': 'Mozilla/5.0 (Windows NT 6.1; Win64; x64) AppleWebKit/537.36 (KHTML, like Gecko) Chrome/75.0.3770.142 Safari/537.36',\n",
    "    'cf-ray': '504e916b6b57d362-LAX',\n",
    "    'cookie': '__cfduid=d47a362f06b29a006e9a2e29f96ed708d1565243399; _ga=GA1.2.1611210091.1565243405; cf_clearance=e27379fc309fe4006bb560e0108268777993c675-1565572098-1800-150; _gid=GA1.2.1501749718.1565572100; _gat_gtag_UA_122828212_6=1'\n",
    "}\n",
    "\n",
    "url = 'https://ccbins.pro/?bins='\n",
    "resp = requests.get(url, headers = headers)\n",
    "print(resp)\n",
    "\n"
   ]
  },
  {
   "cell_type": "code",
   "execution_count": 5,
   "metadata": {},
   "outputs": [
    {
     "name": "stdout",
     "output_type": "stream",
     "text": [
      "CARD6,不重複保單數,不重複被保人,Vendor,Level,Bank\n",
      "229,1,1,JCB,,\n",
      "10013,3,2,VISA,,\n",
      "10022,1,1,VISA,,BANQUE LAURENTIENNE DU CANADA\n",
      "10074,1,1,VISA,PLATINUM,BARBADOS NATIONAL BANK\n",
      "10096,1,1,VISA,,\n",
      "10155,1,1,VISA,PLATINUM,DUBAI ISLAMIC BANK\n"
     ]
    }
   ],
   "source": [
    "Vendor = 'Vendor'\n",
    "Level = 'Level'\n",
    "Bank = 'Bank'\n",
    "\n",
    "g = open(r'result.csv', 'w')\n",
    "with open(r'testdata.csv', 'r') as f:\n",
    "\tnum = 0\n",
    "\tfor line in f:\n",
    "\t\tline = line.strip()\n",
    "\t\tif (num == 0): \n",
    "\t\t\tres = line + ',Vendor,Level,Bank'\n",
    "\t\t\tprint(res)\n",
    "\t\t\tg.write(res + '\\n')\n",
    "\t\telse:\n",
    "\t\t\tcard6 = line.split(',')[0]\n",
    "\t\t\turl = base_url + card6\n",
    "\t\t\tresp = requests.get(url, headers = headers)\n",
    "\t\t\t\n",
    "\t\t\tif (resp.status_code != requests.codes.ok):\n",
    "\t\t\t\tprint(num)\n",
    "\t\t\t\tprint('失敗')\n",
    "\t\t\t\tbreak\n",
    "\t\t\t\n",
    "\t\t\tsoup = BeautifulSoup(resp.text, 'html.parser')\n",
    "\t\t\tcardinfo = {}\n",
    "\t\t\tfor tr in soup.find('table').find_all('tr'):\n",
    "\t\t\t\tth = tr.find('th').text\n",
    "\t\t\t\tth = th[:th.index(':')]\n",
    "\t\t\t\ttd = tr.find('td').text\n",
    "\t\t\t\tcardinfo[th] = td\n",
    "\t\t\t# print(cardinfo)\n",
    "\t\t\tres = line + ',' + cardinfo[Vendor] + ',' + cardinfo[Level] + ',' + cardinfo[Bank]\n",
    "\t\t\tprint(res)\n",
    "\t\t\tg.write(res + '\\n')\n",
    "\t\tnum = num + 1\n",
    "g.close()"
   ]
  },
  {
   "cell_type": "code",
   "execution_count": null,
   "metadata": {},
   "outputs": [],
   "source": []
  }
 ],
 "metadata": {
  "kernelspec": {
   "display_name": "Python 3",
   "language": "python",
   "name": "python3"
  },
  "language_info": {
   "codemirror_mode": {
    "name": "ipython",
    "version": 3
   },
   "file_extension": ".py",
   "mimetype": "text/x-python",
   "name": "python",
   "nbconvert_exporter": "python",
   "pygments_lexer": "ipython3",
   "version": "3.7.3"
  }
 },
 "nbformat": 4,
 "nbformat_minor": 2
}
